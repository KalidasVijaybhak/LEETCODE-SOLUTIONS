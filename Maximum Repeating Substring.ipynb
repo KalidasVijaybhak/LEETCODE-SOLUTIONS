{
 "cells": [
  {
   "cell_type": "markdown",
   "metadata": {},
   "source": [
    " Maximum Repeating Substring\n",
    "\n",
    "For a string sequence, a string word is k-repeating if word concatenated k times is a substring of sequence. The word's maximum k-repeating value is the highest value k where word is k-repeating in sequence. If word is not a substring of sequence, word's maximum k-repeating value is 0.\n",
    "\n",
    "Given strings sequence and word, return the maximum k-repeating value of word in sequence.\n",
    "\n",
    " \n",
    "\n",
    "Example 1:\n",
    "\n",
    "Input: sequence = \"ababc\", word = \"ab\"\n",
    "Output: 2\n",
    "Explanation: \"abab\" is a substring in \"ababc\".\n",
    "Example 2:\n",
    "\n",
    "Input: sequence = \"ababc\", word = \"ba\"\n",
    "Output: 1\n",
    "Explanation: \"ba\" is a substring in \"ababc\". \"baba\" is not a substring in \"ababc\".\n",
    "Example 3:\n",
    "\n",
    "Input: sequence = \"ababc\", word = \"ac\"\n",
    "Output: 0\n",
    "Explanation: \"ac\" is not a substring in \"ababc\". \n",
    " \n",
    "\n"
   ]
  },
  {
   "cell_type": "markdown",
   "metadata": {},
   "source": [
    "Simplest"
   ]
  },
  {
   "cell_type": "code",
   "execution_count": null,
   "metadata": {},
   "outputs": [],
   "source": [
    "class Solution:\n",
    "    def maxRepeating(self, sequence: str, word: str) -> int:\n",
    "        repeat_count = 0\n",
    "        repeated_word = word\n",
    "        \n",
    "        while repeated_word in sequence:\n",
    "            repeat_count += 1\n",
    "            repeated_word += word\n",
    "        \n",
    "        return repeat_count\n"
   ]
  },
  {
   "cell_type": "code",
   "execution_count": null,
   "metadata": {},
   "outputs": [],
   "source": [
    "class Solution:\n",
    "    def maxRepeating(self, sequence: str, word: str) -> int:\n",
    "        if len(sequence)<len(word): return 0\n",
    "        if len(sequence)==len(word) and sequence!=word: return 0\n",
    "        subSize=len(word)\n",
    "        strSize=len(sequence)\n",
    "        result=0\n",
    "        i=0\n",
    "        while (i<strSize-subSize+1):\n",
    "            subString=sequence[i:i+subSize]\n",
    "            if subString==word:\n",
    "                result+=1\n",
    "                i+=subSize\n",
    "            else:\n",
    "                i+=1\n",
    "\n",
    "        # return result\n",
    "        while sequence.count(result*word)==0:\n",
    "            result-=1\n",
    "\n",
    "        return result\n",
    "\n",
    "        # return sequence.count(word)"
   ]
  },
  {
   "cell_type": "markdown",
   "metadata": {},
   "source": [
    "The below will only find the count of the repeating substring"
   ]
  },
  {
   "cell_type": "code",
   "execution_count": null,
   "metadata": {},
   "outputs": [],
   "source": [
    "def maxRepeating(self, sequence: str, word: str) -> int:\n",
    "    # def count_occurrences(sequence: str, word: str) -> int:\n",
    "    left = 0\n",
    "    right = len(word) - 1\n",
    "    count = 0\n",
    "\n",
    "    while right < len(sequence):\n",
    "        # Check if the current window matches the word\n",
    "        if sequence[left:right + 1] == word:\n",
    "            count += 1\n",
    "            left += 1\n",
    "            right += 1\n",
    "        else:\n",
    "            # Move pointers\n",
    "            left += 1\n",
    "            right += 1\n",
    "            \n",
    "    return count"
   ]
  },
  {
   "cell_type": "code",
   "execution_count": 1,
   "metadata": {},
   "outputs": [
    {
     "name": "stdout",
     "output_type": "stream",
     "text": [
      "1 2 h\n",
      "2 3 i\n",
      "4 5 j\n",
      "5 6 k\n"
     ]
    },
    {
     "ename": "",
     "evalue": "",
     "output_type": "error",
     "traceback": [
      "\u001b[1;31mThe Kernel crashed while executing code in the current cell or a previous cell. \n",
      "\u001b[1;31mPlease review the code in the cell(s) to identify a possible cause of the failure. \n",
      "\u001b[1;31mClick <a href='https://aka.ms/vscodeJupyterKernelCrash'>here</a> for more info. \n",
      "\u001b[1;31mView Jupyter <a href='command:jupyter.viewOutput'>log</a> for further details."
     ]
    }
   ],
   "source": [
    "x = [1,2,4,5]\n",
    "y = [2,3,5,6]\n",
    "z = [\"h\",\"i\",\"j\",\"k\"]\n",
    "for i,j,k in zip(x,y,z):\n",
    "    print(i,j,k)"
   ]
  }
 ],
 "metadata": {
  "kernelspec": {
   "display_name": "Python 3",
   "language": "python",
   "name": "python3"
  },
  "language_info": {
   "codemirror_mode": {
    "name": "ipython",
    "version": 3
   },
   "file_extension": ".py",
   "mimetype": "text/x-python",
   "name": "python",
   "nbconvert_exporter": "python",
   "pygments_lexer": "ipython3",
   "version": "3.12.0"
  }
 },
 "nbformat": 4,
 "nbformat_minor": 2
}
