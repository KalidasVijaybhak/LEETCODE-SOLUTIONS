{
 "cells": [
  {
   "cell_type": "markdown",
   "metadata": {},
   "source": [
    " Maximum Repeating Substring\n",
    "\n",
    "For a string sequence, a string word is k-repeating if word concatenated k times is a substring of sequence. The word's maximum k-repeating value is the highest value k where word is k-repeating in sequence. If word is not a substring of sequence, word's maximum k-repeating value is 0.\n",
    "\n",
    "Given strings sequence and word, return the maximum k-repeating value of word in sequence.\n",
    "\n",
    " \n",
    "\n",
    "Example 1:\n",
    "\n",
    "Input: sequence = \"ababc\", word = \"ab\"\n",
    "Output: 2\n",
    "Explanation: \"abab\" is a substring in \"ababc\".\n",
    "Example 2:\n",
    "\n",
    "Input: sequence = \"ababc\", word = \"ba\"\n",
    "Output: 1\n",
    "Explanation: \"ba\" is a substring in \"ababc\". \"baba\" is not a substring in \"ababc\".\n",
    "Example 3:\n",
    "\n",
    "Input: sequence = \"ababc\", word = \"ac\"\n",
    "Output: 0\n",
    "Explanation: \"ac\" is not a substring in \"ababc\". \n",
    " \n",
    "\n"
   ]
  },
  {
   "cell_type": "markdown",
   "metadata": {},
   "source": [
    "Simplest"
   ]
  },
  {
   "cell_type": "code",
   "execution_count": null,
   "metadata": {},
   "outputs": [],
   "source": [
    "class Solution:\n",
    "    def maxRepeating(self, sequence: str, word: str) -> int:\n",
    "        repeat_count = 0\n",
    "        repeated_word = word\n",
    "        \n",
    "        while repeated_word in sequence:\n",
    "            repeat_count += 1\n",
    "            repeated_word += word\n",
    "        \n",
    "        return repeat_count\n"
   ]
  },
  {
   "cell_type": "code",
   "execution_count": null,
   "metadata": {},
   "outputs": [],
   "source": [
    "class Solution:\n",
    "    def maxRepeating(self, sequence: str, word: str) -> int:\n",
    "        if len(sequence)<len(word): return 0\n",
    "        if len(sequence)==len(word) and sequence!=word: return 0\n",
    "        subSize=len(word)\n",
    "        strSize=len(sequence)\n",
    "        result=0\n",
    "        i=0\n",
    "        while (i<strSize-subSize+1):\n",
    "            subString=sequence[i:i+subSize]\n",
    "            if subString==word:\n",
    "                result+=1\n",
    "                i+=subSize\n",
    "            else:\n",
    "                i+=1\n",
    "\n",
    "        # return result\n",
    "        while sequence.count(result*word)==0:\n",
    "            result-=1\n",
    "\n",
    "        return result\n",
    "\n",
    "        # return sequence.count(word)"
   ]
  },
  {
   "cell_type": "markdown",
   "metadata": {},
   "source": [
    "The below will only find the count of the repeating substring"
   ]
  },
  {
   "cell_type": "code",
   "execution_count": null,
   "metadata": {},
   "outputs": [],
   "source": [
    "def maxRepeating(self, sequence: str, word: str) -> int:\n",
    "    # def count_occurrences(sequence: str, word: str) -> int:\n",
    "    left = 0\n",
    "    right = len(word) - 1\n",
    "    count = 0\n",
    "\n",
    "    while right < len(sequence):\n",
    "        # Check if the current window matches the word\n",
    "        if sequence[left:right + 1] == word:\n",
    "            count += 1\n",
    "            left += 1\n",
    "            right += 1\n",
    "        else:\n",
    "            # Move pointers\n",
    "            left += 1\n",
    "            right += 1\n",
    "            \n",
    "    return count"
   ]
  }
 ],
 "metadata": {
  "language_info": {
   "name": "python"
  }
 },
 "nbformat": 4,
 "nbformat_minor": 2
}
