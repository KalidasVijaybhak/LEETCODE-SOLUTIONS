{
 "cells": [
  {
   "cell_type": "code",
   "execution_count": null,
   "metadata": {},
   "outputs": [],
   "source": [
    "'''Bit manipulation involves directly working with bits (binary representations of numbers) to perform operations that are highly efficient. This is often used to solve algorithmic problems by exploiting the properties of binary numbers.\n",
    "\n",
    "Key Concepts in Bit Manipulation\n",
    "Binary Representation:\n",
    "\n",
    "Any number can be represented in binary (base 2). For example, the number 5 is 101 in binary.\n",
    "Bitwise Operators:\n",
    "\n",
    "AND (&): Compares each bit of two numbers and returns 1 if both are 1, else returns 0.\n",
    "Example: 5 & 3 = 101 & 011 = 001 (1)\n",
    "OR (|): Compares each bit of two numbers and returns 1 if at least one is 1, else 0.\n",
    "Example: 5 | 3 = 101 | 011 = 111 (7)\n",
    "XOR (^): Returns 1 if the bits are different, 0 if they are the same.\n",
    "Example: 5 ^ 3 = 101 ^ 011 = 110 (6)\n",
    "NOT (~): Flips all bits (1 becomes 0 and 0 becomes 1).\n",
    "Example: ~5 = 101 → 010 (-6 in 2's complement)\n",
    "Left Shift (<<): Shifts bits to the left by a specified number of positions.\n",
    "Example: 5 << 1 = 101 << 1 = 1010 (10)\n",
    "Right Shift (>>): Shifts bits to the right by a specified number of positions.\n",
    "Example: 5 >> 1 = 101 >> 1 = 010 (2)'''"
   ]
  },
  {
   "cell_type": "markdown",
   "metadata": {},
   "source": [
    "Swapping without using extra variable"
   ]
  },
  {
   "cell_type": "code",
   "execution_count": 1,
   "metadata": {},
   "outputs": [
    {
     "name": "stdout",
     "output_type": "stream",
     "text": [
      "3\n"
     ]
    }
   ],
   "source": [
    "a = 5  # 101\n",
    "b = 3  # 011\n",
    "\n",
    "a = a ^ b  # 110 (6)\n",
    "b = a ^ b  # 101 (5)\n",
    "a = a ^ b  # 011 (3)\n",
    "\n",
    "print(a)"
   ]
  }
 ],
 "metadata": {
  "kernelspec": {
   "display_name": "Python 3",
   "language": "python",
   "name": "python3"
  },
  "language_info": {
   "codemirror_mode": {
    "name": "ipython",
    "version": 3
   },
   "file_extension": ".py",
   "mimetype": "text/x-python",
   "name": "python",
   "nbconvert_exporter": "python",
   "pygments_lexer": "ipython3",
   "version": "3.12.0"
  }
 },
 "nbformat": 4,
 "nbformat_minor": 2
}
