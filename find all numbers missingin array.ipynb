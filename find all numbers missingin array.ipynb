{
 "cells": [
  {
   "cell_type": "markdown",
   "metadata": {},
   "source": [
    "448. Find All Numbers Disappeared in an Array\n",
    "\n",
    "Given an array nums of n integers where nums[i] is in the range [1, n], return an array of all the integers in the range [1, n] that do not appear in nums.\n",
    "\n",
    " \n",
    "\n",
    "Example 1:\n",
    "\n",
    "Input: nums = [4,3,2,7,8,2,3,1]\n",
    "Output: [5,6]\n",
    "Example 2:\n",
    "\n",
    "Input: nums = [1,1]\n",
    "Output: [2]\n",
    " "
   ]
  },
  {
   "cell_type": "code",
   "execution_count": null,
   "metadata": {},
   "outputs": [],
   "source": [
    "class Solution:\n",
    "    def findDisappearedNumbers(self, nums: List[int]) -> List[int]:\n",
    "        x  = set(nums)\n",
    "        nums1 = []\n",
    "        for i in range(1,len(nums)+1):\n",
    "            if i not in x:\n",
    "                nums1.append(i)\n",
    "        return nums1"
   ]
  }
 ],
 "metadata": {
  "language_info": {
   "name": "python"
  }
 },
 "nbformat": 4,
 "nbformat_minor": 2
}
