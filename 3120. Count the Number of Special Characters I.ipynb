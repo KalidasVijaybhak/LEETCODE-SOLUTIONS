{
 "cells": [
  {
   "cell_type": "markdown",
   "metadata": {},
   "source": [
    "\n",
    "Solved\n",
    "Easy\n",
    "Topics\n",
    "Companies\n",
    "Hint\n",
    "You are given a string word. A letter is called special if it appears both in lowercase and uppercase in word.\n",
    "\n",
    "Return the number of special letters in word.\n",
    "\n",
    " \n",
    "\n",
    "Example 1:\n",
    "\n",
    "Input: word = \"aaAbcBC\"\n",
    "\n",
    "Output: 3\n",
    "\n",
    "Explanation:\n",
    "\n",
    "The special characters in word are 'a', 'b', and 'c'.\n",
    "\n",
    "Example 2:\n",
    "\n",
    "Input: word = \"abc\"\n",
    "\n",
    "Output: 0\n",
    "\n",
    "Explanation:\n",
    "\n",
    "No character in word appears in uppercase.\n",
    "\n",
    "Example 3:\n",
    "\n",
    "Input: word = \"abBCab\"\n",
    "\n",
    "Output: 1\n",
    "\n",
    "Explanation:\n",
    "\n",
    "The only special character in word is 'b'.\n",
    "\n",
    " \n",
    "\n"
   ]
  },
  {
   "cell_type": "code",
   "execution_count": null,
   "metadata": {},
   "outputs": [],
   "source": [
    "class Solution:\n",
    "    def numberOfSpecialChars(self, word: str) -> int:\n",
    "        count = 0\n",
    "        s = set(word)\n",
    "        x = {}\n",
    "        for i in s:\n",
    "            x[i] = x.get(i,0)+1\n",
    "            \n",
    "\n",
    "        for i in x:\n",
    "            if i.isupper():\n",
    "                try:\n",
    "                    x[i.lower()] > 0\n",
    "                    count+=1\n",
    "                except:\n",
    "                    pass\n",
    "                \n",
    "\n",
    "        return count"
   ]
  }
 ],
 "metadata": {
  "language_info": {
   "name": "python"
  }
 },
 "nbformat": 4,
 "nbformat_minor": 2
}
