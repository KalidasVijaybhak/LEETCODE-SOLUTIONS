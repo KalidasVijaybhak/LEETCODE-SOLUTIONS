{
 "cells": [
  {
   "cell_type": "markdown",
   "metadata": {},
   "source": [
    " Replace Elements with Greatest Element on Right Side\n",
    " \n",
    "Given an array arr, replace every element in that array with the greatest element among the elements to its right, and replace the last element with -1.\n",
    "\n",
    "After doing so, return the array.\n",
    "\n",
    " \n",
    "\n",
    "Example 1:\n",
    "\n",
    "Input: arr = [17,18,5,4,6,1]\n",
    "Output: [18,6,6,6,1,-1]\n",
    "Explanation: \n",
    "- index 0 --> the greatest element to the right of index 0 is index 1 (18).\n",
    "- index 1 --> the greatest element to the right of index 1 is index 4 (6).\n",
    "- index 2 --> the greatest element to the right of index 2 is index 4 (6).\n",
    "- index 3 --> the greatest element to the right of index 3 is index 4 (6).\n",
    "- index 4 --> the greatest element to the right of index 4 is index 5 (1).\n",
    "- index 5 --> there are no elements to the right of index 5, so we put -1.\n",
    "Example 2:\n",
    "\n",
    "Input: arr = [400]\n",
    "Output: [-1]\n",
    "Explanation: There are no elements to the right of index 0.\n"
   ]
  },
  {
   "cell_type": "code",
   "execution_count": null,
   "metadata": {},
   "outputs": [],
   "source": [
    "class Solution:\n",
    "    def replaceElements(self, arr: List[int]) -> List[int]:\n",
    "        for i in range(len(arr)-1):\n",
    "            arr[i] = max(arr[i+1:])\n",
    "        arr[len(arr)-1] = -1\n",
    "        return arr\n",
    "        \n",
    "# Technically this answer is correct but its causing time limit exceeded error\n",
    "'''Inefficiencies:\n",
    "Repeated Calculations: The max(arr[i+1:]) operation is performed inside the loop, which results in a new subarray being created and the maximum calculated every time. This makes the time complexity worse because slicing and finding the maximum in each iteration takes O(n), leading to an overall time complexity of O(n^2).'''"
   ]
  },
  {
   "cell_type": "markdown",
   "metadata": {},
   "source": [
    "More efficient Approach"
   ]
  },
  {
   "cell_type": "code",
   "execution_count": null,
   "metadata": {},
   "outputs": [],
   "source": [
    "class Solution:\n",
    "    def replaceElements(self, arr: List[int]) -> List[int]:\n",
    "        max_right = -1\n",
    "        \n",
    "        # Traverse the array from the end to the beginning\n",
    "        for i in range(len(arr) - 1, -1, -1):\n",
    "            current = arr[i]\n",
    "            arr[i] = max_right\n",
    "            max_right = max(max_right, current)\n",
    "        \n",
    "        return arr\n"
   ]
  },
  {
   "cell_type": "markdown",
   "metadata": {},
   "source": [
    "OR"
   ]
  },
  {
   "cell_type": "code",
   "execution_count": null,
   "metadata": {},
   "outputs": [],
   "source": [
    "def replaceElements(self, arr: List[int]) -> List[int]:\n",
    "    right = len(arr)-2\n",
    "    max_num = arr[len(arr)-1]\n",
    "    while right >= 0 :\n",
    "        consc = arr[right]\n",
    "        arr[right] = max_num\n",
    "        max_num = max(consc,max_num)\n",
    "        \n",
    "        right-=1\n",
    "    arr[len(arr)-1] = -1\n",
    "    return arr"
   ]
  }
 ],
 "metadata": {
  "language_info": {
   "name": "python"
  }
 },
 "nbformat": 4,
 "nbformat_minor": 2
}
