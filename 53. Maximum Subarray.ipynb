{
 "cells": [
  {
   "cell_type": "markdown",
   "metadata": {},
   "source": [
    "53. Maximum Subarray\n",
    "\n",
    "Given an integer array nums, find the \n",
    "subarray\n",
    " with the largest sum, and return its sum.\n",
    "\n",
    " \n",
    "\n",
    "Example 1:\n",
    "\n",
    "Input: nums = [-2,1,-3,4,-1,2,1,-5,4]\n",
    "Output: 6\n",
    "Explanation: The subarray [4,-1,2,1] has the largest sum 6.\n",
    "Example 2:\n",
    "\n",
    "Input: nums = [1]\n",
    "Output: 1\n",
    "Explanation: The subarray [1] has the largest sum 1.\n",
    "Example 3:\n",
    "\n",
    "Input: nums = [5,4,-1,7,8]\n",
    "Output: 23\n",
    "Explanation: The subarray [5,4,-1,7,8] has the largest sum 23.\n",
    " \n",
    "\n",
    "Constraints:\n",
    "\n",
    "1 <= nums.length <= 105\n",
    "-104 <= nums[i] <= 104\n",
    " \n",
    "\n"
   ]
  },
  {
   "cell_type": "code",
   "execution_count": null,
   "metadata": {},
   "outputs": [],
   "source": [
    "# Using kadanes algorthim\n",
    "subArraysum = float('-inf')\n",
    "max_val = nums[0]\n",
    "for num in nums:\n",
    "    subArraysum = max(num,subArraysum+num)\n",
    "    max_val = max(max_val,subArraysum)\n",
    "return max_val"
   ]
  },
  {
   "cell_type": "code",
   "execution_count": null,
   "metadata": {},
   "outputs": [],
   "source": [
    "maxSum = float('-inf')\n",
    "currentSum = 0\n",
    "\n",
    "for num in nums:\n",
    "    currentSum += num\n",
    "    \n",
    "    if currentSum > maxSum:\n",
    "        maxSum = currentSum\n",
    "    \n",
    "    if currentSum < 0:\n",
    "        currentSum = 0\n",
    "\n",
    "return maxSum"
   ]
  }
 ],
 "metadata": {
  "language_info": {
   "name": "python"
  }
 },
 "nbformat": 4,
 "nbformat_minor": 2
}
