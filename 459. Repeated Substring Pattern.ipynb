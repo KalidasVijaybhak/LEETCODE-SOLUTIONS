{
 "cells": [
  {
   "cell_type": "markdown",
   "metadata": {},
   "source": [
    "459. Repeated Substring Pattern\n",
    "\n",
    "Given a string s, check if it can be constructed by taking a substring of it and appending multiple copies of the substring together.\n",
    "\n",
    " \n",
    "\n",
    "Example 1:\n",
    "\n",
    "Input: s = \"abab\"\n",
    "Output: true\n",
    "Explanation: It is the substring \"ab\" twice.\n",
    "Example 2:\n",
    "\n",
    "Input: s = \"aba\"\n",
    "Output: false\n",
    "Example 3:\n",
    "\n",
    "Input: s = \"abcabcabcabc\"\n",
    "Output: true\n",
    "Explanation: It is the substring \"abc\" four times or the substring \"abcabc\" twice."
   ]
  },
  {
   "cell_type": "code",
   "execution_count": null,
   "metadata": {},
   "outputs": [],
   "source": [
    "class Solution:\n",
    "    def repeatedSubstringPattern(self, s: str) -> bool:\n",
    "\n",
    "        \n",
    "        # s_fold = \"\".join( ( )\n",
    "        \n",
    "        return (s[1:] + s[:-1]).find(s)>=0"
   ]
  },
  {
   "cell_type": "code",
   "execution_count": null,
   "metadata": {},
   "outputs": [],
   "source": [
    "class Solution:\n",
    "    def repeatedSubstringPattern(self, s: str) -> bool:\n",
    "\n",
    "        \n",
    "        s_fold = \"\".join( (s[1:], s[:-1]) )\n",
    "        \n",
    "        return s in s_fold"
   ]
  },
  {
   "cell_type": "code",
   "execution_count": null,
   "metadata": {},
   "outputs": [],
   "source": [
    "class Solution:\n",
    "    def repeatedSubstringPattern(self, s: str) -> bool:\n",
    "        n = len(s)\n",
    "        for i in range(1, n//2 + 1):\n",
    "            if n % i == 0:\n",
    "                substring = s[:i]\n",
    "                if substring * (n // i) == s:\n",
    "                    return True\n",
    "        return False"
   ]
  },
  {
   "cell_type": "code",
   "execution_count": null,
   "metadata": {},
   "outputs": [],
   "source": [
    "# In the repeatedSubstringPattern method, the goal is to determine if the given string s can be constructed by repeating a substring. The solution uses an interesting approach based on string manipulation.\n",
    "\n",
    "# Steps in the logic:\n",
    "# Concatenating the string to itself (with modifications):\n",
    "\n",
    "# The method creates a new string s_fold, which is the concatenation of s without the first character (s[1:]) and s without the last character (s[:-1]).\n",
    "# Essentially, this creates a version of s that has its start and end parts removed and rejoined:\n",
    "# css\n",
    "# Copy code\n",
    "# s_fold = s[1:] + s[:-1]\n",
    "# For example:\n",
    "\n",
    "# If s = \"abab\", then:\n",
    "# s[1:] = \"bab\"\n",
    "# s[:-1] = \"aba\"\n",
    "# So, s_fold = \"bababa\".\n",
    "# Checking if s is a substring of s_fold:\n",
    "\n",
    "# The key observation here is that if s can be constructed by repeating a substring, then the original string s should appear somewhere inside s_fold.\n",
    "# If s is a repeated substring, removing the first and last characters from s_fold breaks the symmetry only at the ends. Thus, any occurrence of s inside this larger folded string indicates that the original string has a repeated pattern.\n",
    "# Return the result:\n",
    "\n",
    "# If s is found within s_fold, it implies that s is made by repeating a substring, so the function returns True. Otherwise, it returns False.\n",
    "# Why does this work?\n",
    "# By removing the first and last character and then concatenating the modified parts, you're effectively breaking any single occurrence of s into parts but preserving multiple occurrences of a repeated substring within the larger structure. Hence, checking whether s is in s_fold allows detecting repeated patterns.\n",
    "\n",
    "# Example Walkthrough:\n",
    "# For s = \"abab\":\n",
    "\n",
    "# s_fold = \"bababa\"\n",
    "# \"abab\" is found in \"bababa\", so the function returns True.\n",
    "# For s = \"abcabc\":\n",
    "\n",
    "# s_fold = \"bcabcab\"\n",
    "# \"abcabc\" is found in \"bcabcab\", so the function returns True.\n",
    "# For s = \"abcd\":\n",
    "\n",
    "# s_fold = \"bcda\"\n",
    "# \"abcd\" is not found in \"bcda\", so the function returns False."
   ]
  }
 ],
 "metadata": {
  "kernelspec": {
   "display_name": "Python 3",
   "language": "python",
   "name": "python3"
  },
  "language_info": {
   "name": "python",
   "version": "3.12.0"
  }
 },
 "nbformat": 4,
 "nbformat_minor": 2
}
