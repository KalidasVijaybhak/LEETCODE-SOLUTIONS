{
 "cells": [
  {
   "cell_type": "code",
   "execution_count": 3,
   "metadata": {},
   "outputs": [
    {
     "name": "stdout",
     "output_type": "stream",
     "text": [
      "-1\n",
      "-1\n"
     ]
    }
   ],
   "source": []
  },
  {
   "cell_type": "markdown",
   "metadata": {},
   "source": [
    "Smallest ELEMENT"
   ]
  },
  {
   "cell_type": "code",
   "execution_count": 7,
   "metadata": {},
   "outputs": [
    {
     "name": "stdout",
     "output_type": "stream",
     "text": [
      "inf\n",
      "-1\n"
     ]
    }
   ],
   "source": [
    "x = [3,4,1,5,-1]\n",
    "min_val = float('inf')  # Initialize to positive infinity\n",
    "print(min_val)\n",
    "for i in range(len(x)):\n",
    "    if min_val > x[i]:\n",
    "        min_val = x[i]\n",
    "print(min_val)"
   ]
  },
  {
   "cell_type": "markdown",
   "metadata": {},
   "source": [
    "Largest Element"
   ]
  },
  {
   "cell_type": "code",
   "execution_count": 6,
   "metadata": {},
   "outputs": [
    {
     "name": "stdout",
     "output_type": "stream",
     "text": [
      "-inf\n"
     ]
    }
   ],
   "source": [
    "x = [3,4,1,5,-1]\n",
    "min_val = float('-inf')  # Initialize to positive infinity\n",
    "print(min_val)\n",
    "for i in range(len(x)):\n",
    "    if min_val < x[i]:\n",
    "        min_val = x[i]\n",
    "    \n",
    "print(min_val)"
   ]
  },
  {
   "cell_type": "markdown",
   "metadata": {},
   "source": [
    "Second Largest Element"
   ]
  },
  {
   "cell_type": "code",
   "execution_count": 8,
   "metadata": {},
   "outputs": [
    {
     "name": "stdout",
     "output_type": "stream",
     "text": [
      "Second largest element: 3\n"
     ]
    }
   ],
   "source": [
    "def find_second_largest(nums):\n",
    "    if len(nums) < 2:\n",
    "        return None  # Not enough elements to find the second largest\n",
    "    \n",
    "    # Initialize pointers\n",
    "    first_largest = float('-inf')\n",
    "    second_largest = float('-inf')\n",
    "    \n",
    "    for num in nums:\n",
    "        if num > first_largest:\n",
    "            # Update both first_largest and second_largest\n",
    "            second_largest = first_largest\n",
    "            first_largest = num\n",
    "        elif first_largest > num > second_largest:\n",
    "            # Update only second_largest\n",
    "            second_largest = num\n",
    "    \n",
    "    if second_largest == float('-inf'):\n",
    "        return None  # Handle the case where there is no second largest element\n",
    "    \n",
    "    return second_largest\n",
    "\n",
    "# Example usage\n",
    "nums = [1, 3, 5, 5, 2, 2]\n",
    "second_largest = find_second_largest(nums)\n",
    "print(\"Second largest element:\", second_largest)"
   ]
  },
  {
   "cell_type": "markdown",
   "metadata": {},
   "source": [
    "3rd largest element"
   ]
  },
  {
   "cell_type": "code",
   "execution_count": null,
   "metadata": {},
   "outputs": [],
   "source": [
    "def find_third_largest(nums):\n",
    "    if len(nums) < 3:\n",
    "        return None  # Not enough elements to find the third largest\n",
    "    \n",
    "    # Initialize pointers\n",
    "    first_largest = float('-inf')\n",
    "    second_largest = float('-inf')\n",
    "    third_largest = float('-inf')\n",
    "    \n",
    "    for num in nums:\n",
    "        if num > first_largest:\n",
    "            # Update all three\n",
    "            third_largest = second_largest\n",
    "            second_largest = first_largest\n",
    "            first_largest = num\n",
    "        elif first_largest > num > second_largest:\n",
    "            # Update second and third largest\n",
    "            third_largest = second_largest\n",
    "            second_largest = num\n",
    "        elif second_largest > num > third_largest:\n",
    "            # Update only third largest\n",
    "            third_largest = num\n",
    "    \n",
    "    if third_largest == float('-inf'):\n",
    "        return None  # Handle the case where there is no third largest element\n",
    "    \n",
    "    return third_largest\n",
    "\n",
    "# Example usage\n",
    "nums = [1, 3, 4, 5, 0, 2]\n",
    "third_largest = find_third_largest(nums)\n",
    "print(\"Third largest element:\", third_largest)\n"
   ]
  },
  {
   "cell_type": "code",
   "execution_count": 29,
   "metadata": {},
   "outputs": [
    {
     "name": "stdout",
     "output_type": "stream",
     "text": [
      "not prime\n"
     ]
    }
   ],
   "source": [
    "s = 14\n",
    "count = 0\n",
    "for i in range(1,s):\n",
    "    if s % i == 0:\n",
    "        count+=1\n",
    "        if count > 1:\n",
    "            print(\"not prime\")\n",
    "            break\n",
    "if count == 1:\n",
    "    print(\"prime\")"
   ]
  },
  {
   "cell_type": "markdown",
   "metadata": {},
   "source": [
    "Print factors"
   ]
  },
  {
   "cell_type": "code",
   "execution_count": 36,
   "metadata": {},
   "outputs": [
    {
     "name": "stdout",
     "output_type": "stream",
     "text": [
      "1 x 14\n",
      "2 x 7\n",
      "7 x 2\n",
      "14 x 1\n"
     ]
    }
   ],
   "source": [
    "for i in range(1,s+1):\n",
    "    if s % i == 0:\n",
    "        # print(i)\n",
    "        x = int(s / i)\n",
    "        print(i,\"x\",x)  \n",
    "    "
   ]
  },
  {
   "cell_type": "markdown",
   "metadata": {},
   "source": [
    "To find missing no. from a  sequence of number"
   ]
  },
  {
   "cell_type": "code",
   "execution_count": 3,
   "metadata": {},
   "outputs": [
    {
     "name": "stdout",
     "output_type": "stream",
     "text": [
      "6\n"
     ]
    }
   ],
   "source": [
    "x = [1,2,3,4,5,7,8,9,10]\n",
    "for left in range(len(x)-1):\n",
    "    if x[left]+1 != x[left+1]:\n",
    "        print(x[left]+1)\n"
   ]
  },
  {
   "cell_type": "code",
   "execution_count": 2,
   "metadata": {},
   "outputs": [
    {
     "name": "stdout",
     "output_type": "stream",
     "text": [
      "6\n"
     ]
    }
   ],
   "source": [
    "x = [1,2,3,6,2]\n",
    "\n",
    "left = float('-inf')\n",
    "for i in x:\n",
    "    if i > left:\n",
    "        left = i\n",
    "print(left)"
   ]
  },
  {
   "cell_type": "markdown",
   "metadata": {},
   "source": [
    "Max Consecutive ones"
   ]
  },
  {
   "cell_type": "code",
   "execution_count": 11,
   "metadata": {},
   "outputs": [
    {
     "name": "stdout",
     "output_type": "stream",
     "text": [
      "1\n"
     ]
    }
   ],
   "source": [
    "nums = [1, 1, 0, 1, 1, 1]\n",
    "consc = 0\n",
    "count = 0\n",
    "\n",
    "for num in nums:\n",
    "    if num == 1:\n",
    "        count += 1\n",
    "        consc = max(consc, count)\n",
    "    else:\n",
    "        count = 0  # Reset count when a 0 is encountered\n",
    "\n",
    "print(consc)\n"
   ]
  },
  {
   "cell_type": "code",
   "execution_count": 16,
   "metadata": {},
   "outputs": [
    {
     "name": "stdout",
     "output_type": "stream",
     "text": [
      "[1, 0, 0, 2, 3, 0, 0, 4]\n"
     ]
    }
   ],
   "source": [
    "nums = [1, 0, 0, 2, 3, 0, 0, 4, 5, 0, 0]\n",
    "print(nums[:-3])"
   ]
  }
 ],
 "metadata": {
  "kernelspec": {
   "display_name": "Python 3",
   "language": "python",
   "name": "python3"
  },
  "language_info": {
   "codemirror_mode": {
    "name": "ipython",
    "version": 3
   },
   "file_extension": ".py",
   "mimetype": "text/x-python",
   "name": "python",
   "nbconvert_exporter": "python",
   "pygments_lexer": "ipython3",
   "version": "3.12.0"
  }
 },
 "nbformat": 4,
 "nbformat_minor": 2
}
