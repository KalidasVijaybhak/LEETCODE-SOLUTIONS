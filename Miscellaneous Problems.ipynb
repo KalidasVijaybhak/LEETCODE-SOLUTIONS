{
 "cells": [
  {
   "cell_type": "code",
   "execution_count": 3,
   "metadata": {},
   "outputs": [
    {
     "name": "stdout",
     "output_type": "stream",
     "text": [
      "-1\n",
      "-1\n"
     ]
    }
   ],
   "source": []
  },
  {
   "cell_type": "markdown",
   "metadata": {},
   "source": [
    "Smallest ELEMENT"
   ]
  },
  {
   "cell_type": "code",
   "execution_count": 7,
   "metadata": {},
   "outputs": [
    {
     "name": "stdout",
     "output_type": "stream",
     "text": [
      "inf\n",
      "-1\n"
     ]
    }
   ],
   "source": [
    "x = [3,4,1,5,-1]\n",
    "min_val = float('inf')  # Initialize to positive infinity\n",
    "print(min_val)\n",
    "for i in range(len(x)):\n",
    "    if min_val > x[i]:\n",
    "        min_val = x[i]\n",
    "print(min_val)"
   ]
  },
  {
   "cell_type": "markdown",
   "metadata": {},
   "source": [
    "Largest Element"
   ]
  },
  {
   "cell_type": "code",
   "execution_count": 6,
   "metadata": {},
   "outputs": [
    {
     "name": "stdout",
     "output_type": "stream",
     "text": [
      "-inf\n"
     ]
    }
   ],
   "source": [
    "x = [3,4,1,5,-1]\n",
    "min_val = float('-inf')  # Initialize to positive infinity\n",
    "print(min_val)\n",
    "for i in range(len(x)):\n",
    "    if min_val < x[i]:\n",
    "        min_val = x[i]\n",
    "    \n",
    "print(min_val)"
   ]
  },
  {
   "cell_type": "markdown",
   "metadata": {},
   "source": [
    "Second Largest Element"
   ]
  },
  {
   "cell_type": "code",
   "execution_count": 8,
   "metadata": {},
   "outputs": [
    {
     "name": "stdout",
     "output_type": "stream",
     "text": [
      "Second largest element: 3\n"
     ]
    }
   ],
   "source": [
    "def find_second_largest(nums):\n",
    "    if len(nums) < 2:\n",
    "        return None  # Not enough elements to find the second largest\n",
    "    \n",
    "    # Initialize pointers\n",
    "    first_largest = float('-inf')\n",
    "    second_largest = float('-inf')\n",
    "    \n",
    "    for num in nums:\n",
    "        if num > first_largest:\n",
    "            # Update both first_largest and second_largest\n",
    "            second_largest = first_largest\n",
    "            first_largest = num\n",
    "        elif first_largest > num > second_largest:\n",
    "            # Update only second_largest\n",
    "            second_largest = num\n",
    "    \n",
    "    if second_largest == float('-inf'):\n",
    "        return None  # Handle the case where there is no second largest element\n",
    "    \n",
    "    return second_largest\n",
    "\n",
    "# Example usage\n",
    "nums = [1, 3, 5, 5, 2, 2]\n",
    "second_largest = find_second_largest(nums)\n",
    "print(\"Second largest element:\", second_largest)"
   ]
  },
  {
   "cell_type": "markdown",
   "metadata": {},
   "source": [
    "3rd largest element"
   ]
  },
  {
   "cell_type": "code",
   "execution_count": null,
   "metadata": {},
   "outputs": [],
   "source": [
    "def find_third_largest(nums):\n",
    "    if len(nums) < 3:\n",
    "        return None  # Not enough elements to find the third largest\n",
    "    \n",
    "    # Initialize pointers\n",
    "    first_largest = float('-inf')\n",
    "    second_largest = float('-inf')\n",
    "    third_largest = float('-inf')\n",
    "    \n",
    "    for num in nums:\n",
    "        if num > first_largest:\n",
    "            # Update all three\n",
    "            third_largest = second_largest\n",
    "            second_largest = first_largest\n",
    "            first_largest = num\n",
    "        elif first_largest > num > second_largest:\n",
    "            # Update second and third largest\n",
    "            third_largest = second_largest\n",
    "            second_largest = num\n",
    "        elif second_largest > num > third_largest:\n",
    "            # Update only third largest\n",
    "            third_largest = num\n",
    "    \n",
    "    if third_largest == float('-inf'):\n",
    "        return None  # Handle the case where there is no third largest element\n",
    "    \n",
    "    return third_largest\n",
    "\n",
    "# Example usage\n",
    "nums = [1, 3, 4, 5, 0, 2]\n",
    "third_largest = find_third_largest(nums)\n",
    "print(\"Third largest element:\", third_largest)\n"
   ]
  },
  {
   "cell_type": "code",
   "execution_count": 29,
   "metadata": {},
   "outputs": [
    {
     "name": "stdout",
     "output_type": "stream",
     "text": [
      "not prime\n"
     ]
    }
   ],
   "source": [
    "s = 14\n",
    "count = 0\n",
    "for i in range(1,s):\n",
    "    if s % i == 0:\n",
    "        count+=1\n",
    "        if count > 1:\n",
    "            print(\"not prime\")\n",
    "            break\n",
    "if count == 1:\n",
    "    print(\"prime\")"
   ]
  },
  {
   "cell_type": "markdown",
   "metadata": {},
   "source": [
    "Print factors"
   ]
  },
  {
   "cell_type": "code",
   "execution_count": 36,
   "metadata": {},
   "outputs": [
    {
     "name": "stdout",
     "output_type": "stream",
     "text": [
      "1 x 14\n",
      "2 x 7\n",
      "7 x 2\n",
      "14 x 1\n"
     ]
    }
   ],
   "source": [
    "for i in range(1,s+1):\n",
    "    if s % i == 0:\n",
    "        # print(i)\n",
    "        x = int(s / i)\n",
    "        print(i,\"x\",x)  \n",
    "    "
   ]
  },
  {
   "cell_type": "markdown",
   "metadata": {},
   "source": [
    "To find missing no. from a  sequence of number"
   ]
  },
  {
   "cell_type": "code",
   "execution_count": 3,
   "metadata": {},
   "outputs": [
    {
     "name": "stdout",
     "output_type": "stream",
     "text": [
      "6\n"
     ]
    }
   ],
   "source": [
    "x = [1,2,3,4,5,7,8,9,10]\n",
    "for left in range(len(x)-1):\n",
    "    if x[left]+1 != x[left+1]:\n",
    "        print(x[left]+1)\n"
   ]
  },
  {
   "cell_type": "code",
   "execution_count": 2,
   "metadata": {},
   "outputs": [
    {
     "name": "stdout",
     "output_type": "stream",
     "text": [
      "6\n"
     ]
    }
   ],
   "source": [
    "x = [1,2,3,6,2]\n",
    "\n",
    "left = float('-inf')\n",
    "for i in x:\n",
    "    if i > left:\n",
    "        left = i\n",
    "print(left)"
   ]
  },
  {
   "cell_type": "markdown",
   "metadata": {},
   "source": [
    "Max Consecutive ones"
   ]
  },
  {
   "cell_type": "code",
   "execution_count": 6,
   "metadata": {},
   "outputs": [
    {
     "name": "stdout",
     "output_type": "stream",
     "text": [
      "4\n"
     ]
    }
   ],
   "source": [
    "nums = [1, 1, 0, 1, 1, 1,0,0,1,1,1,1]\n",
    "consc = 0\n",
    "count = 0\n",
    "\n",
    "for num in nums:\n",
    "    if num == 1:\n",
    "        count += 1\n",
    "        consc = max(consc, count)\n",
    "    else:\n",
    "        count = 0  # Reset count when a 0 is encountered\n",
    "\n",
    "print(consc)\n"
   ]
  },
  {
   "cell_type": "code",
   "execution_count": 11,
   "metadata": {},
   "outputs": [
    {
     "name": "stdout",
     "output_type": "stream",
     "text": [
      "[[1, 5], [1, 4], [1, 6], [2, 5], [2, 4], [2, 6], [3, 5], [3, 4], [3, 6]]\n"
     ]
    }
   ],
   "source": [
    "print([[x,y] for x in [1,2,3] for  y in [5,4,6]])"
   ]
  },
  {
   "cell_type": "code",
   "execution_count": null,
   "metadata": {},
   "outputs": [],
   "source": [
    "# Let's learn about list comprehensions! You are given three integers  and  representing the dimensions of a cuboid along with an integer . Print a list of all possible coordinates given by  on a 3D grid where the sum of  is not equal to . Here, . Please use list comprehensions rather than multiple loops, as a learning exercise."
   ]
  },
  {
   "cell_type": "code",
   "execution_count": 13,
   "metadata": {},
   "outputs": [
    {
     "name": "stdout",
     "output_type": "stream",
     "text": [
      "[[0, 0, 0], [0, 0, 1], [0, 0, 2], [0, 1, 0], [0, 1, 1], [1, 0, 0], [1, 0, 1], [1, 1, 0], [1, 1, 2]]\n"
     ]
    },
    {
     "ename": "",
     "evalue": "",
     "output_type": "error",
     "traceback": [
      "\u001b[1;31mThe Kernel crashed while executing code in the current cell or a previous cell. \n",
      "\u001b[1;31mPlease review the code in the cell(s) to identify a possible cause of the failure. \n",
      "\u001b[1;31mClick <a href='https://aka.ms/vscodeJupyterKernelCrash'>here</a> for more info. \n",
      "\u001b[1;31mView Jupyter <a href='command:jupyter.viewOutput'>log</a> for further details."
     ]
    }
   ],
   "source": [
    "list1 = []\n",
    "nest_list = []\n",
    "x = 1\n",
    "y = 1\n",
    "z = 2\n",
    "n = 3\n",
    "\n",
    "for i in range(x+1):\n",
    "    for j in range(y+1):\n",
    "        for k in range(z+1):\n",
    "            nest_list = [i,j,k]\n",
    "            if i+j+k!=n:\n",
    "                list1.append(nest_list)\n",
    "print(list1)"
   ]
  },
  {
   "cell_type": "code",
   "execution_count": null,
   "metadata": {},
   "outputs": [],
   "source": [
    "x = \"a1b10\"\n",
    "left = 0  # Start from index 0\n",
    "m = \"\"\n",
    "j = \"\"\n",
    "\n",
    "while left < len(x):\n",
    "    if x[left].isdigit():\n",
    "        m += x[left]\n",
    "    else:\n",
    "        if m:  # Check if m is not empty\n",
    "            for i in range(int(m)):\n",
    "                print(j)\n",
    "            m = \"\"  # Reset m for the next number\n",
    "        j = x[left]\n",
    "    left += 1\n",
    "\n",
    "# Handle the case where the string ends with a number\n",
    "if m:\n",
    "    for i in range(int(m)):\n",
    "        print(j)\n",
    "# Example Execution for \"a1b10\"\n",
    "# left = 0: x[left] is 'a' (not a digit). m is \"\" and j is \"\". Update j to 'a'. Increment left.\n",
    "# left = 1: x[left] is '1' (a digit). Update m to '1'. Increment left.\n",
    "# left = 2: x[left] is 'b' (not a digit). m is '1'. Print j (which is 'a') 1 time. Update j to 'b' and reset m. Increment left.\n",
    "# left = 3: x[left] is '1' (a digit). Update m to '1'. Increment left.\n",
    "# left = 4: x[left] is '0' (a digit). Update m to '10'. Increment left.\n",
    "# left = 5: End of string. Print j (which is 'b') 10 times."
   ]
  }
 ],
 "metadata": {
  "kernelspec": {
   "display_name": "Python 3",
   "language": "python",
   "name": "python3"
  },
  "language_info": {
   "codemirror_mode": {
    "name": "ipython",
    "version": 3
   },
   "file_extension": ".py",
   "mimetype": "text/x-python",
   "name": "python",
   "nbconvert_exporter": "python",
   "pygments_lexer": "ipython3",
   "version": "3.11.2"
  }
 },
 "nbformat": 4,
 "nbformat_minor": 2
}
