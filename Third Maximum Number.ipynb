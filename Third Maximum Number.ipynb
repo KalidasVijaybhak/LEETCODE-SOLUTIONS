{
 "cells": [
  {
   "cell_type": "markdown",
   "metadata": {},
   "source": [
    "414. Third Maximum Number\n",
    "\n",
    "\n",
    "Given an integer array nums, return the third distinct maximum number in this array. If the third maximum does not exist, return the maximum number.\n",
    "\n",
    " \n",
    "\n",
    "Example 1:\n",
    "\n",
    "Input: nums = [3,2,1]\n",
    "Output: 1\n",
    "Explanation:\n",
    "The first distinct maximum is 3.\n",
    "The second distinct maximum is 2.\n",
    "The third distinct maximum is 1.\n",
    "Example 2:\n",
    "\n",
    "Input: nums = [1,2]\n",
    "Output: 2\n",
    "Explanation:\n",
    "The first distinct maximum is 2.\n",
    "The second distinct maximum is 1.\n",
    "The third distinct maximum does not exist, so the maximum (2) is returned instead.\n",
    "Example 3:\n",
    "\n",
    "Input: nums = [2,2,3,1]\n",
    "Output: 1\n",
    "Explanation:\n",
    "The first distinct maximum is 3.\n",
    "The second distinct maximum is 2 (both 2's are counted together since they have the same value).\n",
    "The third distinct maximum is 1."
   ]
  },
  {
   "cell_type": "code",
   "execution_count": null,
   "metadata": {},
   "outputs": [],
   "source": [
    "class Solution:\n",
    "    def thirdMax(self, nums: List[int]) -> int:\n",
    "        first_max = float('-inf')\n",
    "        second_max = float('-inf')\n",
    "        third_max = float(\"-inf\")\n",
    "        for i in nums:\n",
    "            if i >first_max:\n",
    "                third_max = second_max\n",
    "                second_max= first_max\n",
    "                first_max = i\n",
    "            elif first_max>i>second_max:\n",
    "                third_max = second_max\n",
    "                second_max = i\n",
    "            elif second_max > i  >third_max:\n",
    "\n",
    "                third_max  = i\n",
    "        if third_max == float('-inf'):\n",
    "            return first_max\n",
    "        return third_max"
   ]
  }
 ],
 "metadata": {
  "language_info": {
   "name": "python"
  }
 },
 "nbformat": 4,
 "nbformat_minor": 2
}
