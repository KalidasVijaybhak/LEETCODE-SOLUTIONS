{
 "cells": [
  {
   "cell_type": "markdown",
   "metadata": {},
   "source": [
    "Given an integer array nums, move all 0's to the end of it while maintaining the relative order of the non-zero elements.\n",
    "\n",
    "Note that you must do this in-place without making a copy of the array.\n",
    "\n",
    " \n",
    "\n",
    "Example 1:\n",
    "\n",
    "Input: nums = [0,1,0,3,12]\n",
    "Output: [1,3,12,0,0]\n",
    "Example 2:\n",
    "\n",
    "Input: nums = [0]\n",
    "Output: [0]"
   ]
  },
  {
   "cell_type": "code",
   "execution_count": null,
   "metadata": {},
   "outputs": [],
   "source": [
    "class Solution:\n",
    "    def moveZeroes(self, nums: List[int]) -> None:\n",
    "        left = 0\n",
    "        while(left<len(nums)):\n",
    "            if nums[left]==0:\n",
    "                nums.remove(nums[left])\n",
    "                nums.append(0)\n",
    "            left+=1"
   ]
  },
  {
   "cell_type": "code",
   "execution_count": null,
   "metadata": {},
   "outputs": [],
   "source": [
    "left = 0\n",
    "count = 0\n",
    "while left < len(nums):\n",
    "    if nums[left]==0:\n",
    "        nums.pop(nums.index(nums[left]))\n",
    "        count+=1\n",
    "    else:\n",
    "        left+=1\n",
    "for _ in range(count):\n",
    "    nums.append(0)"
   ]
  },
  {
   "cell_type": "code",
   "execution_count": null,
   "metadata": {},
   "outputs": [],
   "source": [
    "class Solution:\n",
    "    def moveZeroes(self, nums: List[int]) -> None:\n",
    "        left = 0\n",
    "        right = 0\n",
    "        if len(nums)!=1:\n",
    "                \n",
    "            while right < len(nums):\n",
    "                if nums[right] != 0:\n",
    "                    \n",
    "                    nums[left] = nums[right]\n",
    "                    left+=1\n",
    "                    nums[right] = 0\n",
    "                right+=1\n",
    "\n",
    "\n",
    "# Issues:\n",
    "# Unnecessary Zero Overwriting: When you set nums[right] = 0 after moving a non-zero element to nums[left], it inadvertently moves zeros into positions that should not yet be zeros.\n",
    "# Handling Arrays of Length 1: Your check if len(nums) != 1: is correct in spirit, but even if the array length is 1, the loop would not cause any harm. It would be better to handle this case without a special condition.\n",
    "# How to Correct It:\n",
    "# Correct Positioning of Non-Zero Elements: Move non-zero elements to the left pointer's position, and only after the loop completes, fill the rest of the array with zeros."
   ]
  },
  {
   "cell_type": "markdown",
   "metadata": {},
   "source": [
    "Most efficient"
   ]
  },
  {
   "cell_type": "code",
   "execution_count": null,
   "metadata": {},
   "outputs": [],
   "source": [
    "class Solution:\n",
    "    def moveZeroes(self, nums: List[int]) -> None:\n",
    "        left = 0  # Pointer to place the next non-zero element\n",
    "\n",
    "        # Move all non-zero elements to the beginning of the array\n",
    "        for right in range(len(nums)):\n",
    "            if nums[right] != 0:\n",
    "                # Swap elements instead of overwriting\n",
    "                nums[left], nums[right] = nums[right], nums[left]\n",
    "                left += 1\n",
    "\n",
    "'''Explanation:\n",
    "Swapping Instead of Overwriting: Instead of assigning nums[left] = nums[right] and then nums[right] = 0, we simply swap the elements. This prevents overwriting a non-zero element prematurely and avoids assigning zeros too early.\n",
    "\n",
    "Eliminating Redundant Code: The loop ensures that all non-zero elements are moved to the front in their relative order, and the zeros naturally move to the back.'''"
   ]
  }
 ],
 "metadata": {
  "kernelspec": {
   "display_name": "Python 3",
   "language": "python",
   "name": "python3"
  },
  "language_info": {
   "name": "python",
   "version": "3.12.0"
  }
 },
 "nbformat": 4,
 "nbformat_minor": 2
}
