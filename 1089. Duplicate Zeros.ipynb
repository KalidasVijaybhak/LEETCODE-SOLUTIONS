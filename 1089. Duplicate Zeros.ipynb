{
 "cells": [
  {
   "cell_type": "markdown",
   "metadata": {},
   "source": [
    "1089. Duplicate Zeros\n",
    "\n",
    "\n",
    "Hint\n",
    "Given a fixed-length integer array arr, duplicate each occurrence of zero, shifting the remaining elements to the right.\n",
    "\n",
    "Note that elements beyond the length of the original array are not written. Do the above modifications to the input array in place and do not return anything.\n",
    "\n",
    " \n",
    "\n",
    "Example 1:\n",
    "\n",
    "Input: arr = [1,0,2,3,0,4,5,0]\n",
    "Output: [1,0,0,2,3,0,0,4]\n",
    "Explanation: After calling your function, the input array is modified to: [1,0,0,2,3,0,0,4]\n",
    "Example 2:\n",
    "\n",
    "Input: arr = [1,2,3]\n",
    "Output: [1,2,3]\n",
    "Explanation: After calling your function, the input array is modified to: [1,2,3]\n",
    " \n",
    "\n",
    "Constraints:\n",
    "\n",
    "1 <= arr.length <= 104\n",
    "0 <= arr[i] <= 9"
   ]
  },
  {
   "cell_type": "code",
   "execution_count": null,
   "metadata": {},
   "outputs": [],
   "source": [
    "right = 0 \n",
    "count = 0\n",
    "arr = [1,0,2,3,0,4,5,0]\n",
    "while right < len(arr):\n",
    "    if arr[right]==0:\n",
    "        arr.insert(right+1,0)\n",
    "        right+=1\n",
    "        count+=1\n",
    "        arr.pop()\n",
    "        print(arr)\n",
    "    right+=1\n",
    "print(count)\n",
    "'''\n",
    "Your approach involves iterating through the array and duplicating zeros by inserting an extra zero right after each zero you encounter. You then remove the last element of the array to maintain the original length. This is a valid strategy, but it has some inefficiencies due to the use of insert and pop methods, which can be costly in terms of time complexity because they involve shifting elements multiple times.\n",
    "'''"
   ]
  },
  {
   "cell_type": "code",
   "execution_count": 15,
   "metadata": {},
   "outputs": [
    {
     "ename": "TypeError",
     "evalue": "ord() expected a character, but string of length 3 found",
     "output_type": "error",
     "traceback": [
      "\u001b[1;31m---------------------------------------------------------------------------\u001b[0m",
      "\u001b[1;31mTypeError\u001b[0m                                 Traceback (most recent call last)",
      "Cell \u001b[1;32mIn[15], line 1\u001b[0m\n\u001b[1;32m----> 1\u001b[0m \u001b[38;5;28mprint\u001b[39m(\u001b[38;5;28;43mord\u001b[39;49m\u001b[43m(\u001b[49m\u001b[38;5;28;43mstr\u001b[39;49m\u001b[43m(\u001b[49m\u001b[38;5;124;43m\"\u001b[39;49m\u001b[38;5;124;43mhel\u001b[39;49m\u001b[38;5;124;43m\"\u001b[39;49m\u001b[43m)\u001b[49m\u001b[43m)\u001b[49m)\n",
      "\u001b[1;31mTypeError\u001b[0m: ord() expected a character, but string of length 3 found"
     ]
    }
   ],
   "source": [
    "print(ord(str(\"hel\")))"
   ]
  },
  {
   "cell_type": "code",
   "execution_count": 14,
   "metadata": {},
   "outputs": [
    {
     "name": "stdout",
     "output_type": "stream",
     "text": [
      "[4, 4, 0, 1, 0, 2]\n",
      "[4, 4, 1, 0, 2, 48]\n",
      "4\n"
     ]
    }
   ],
   "source": [
    "nums = [4, 4, 0, 1, 0, 2]\n",
    "val = 0\n",
    "count = 0\n",
    "\n",
    "left = 0\n",
    "\n",
    "# Iterate over the list without skipping elements\n",
    "while left < len(nums):\n",
    "    if nums[left] == val:\n",
    "        print(nums)\n",
    "        nums.remove(nums[left])  # Remove the element that matches `val`\n",
    "        nums.append(ord(str(val)))           # Append `l` to the end of the list\n",
    "        count += 1               # Increment the count of replacements\n",
    "    else:\n",
    "        left += 1                # Only increment `left` if no removal occurs\n",
    "\n",
    "# Print the length of the original list minus the count of replacements\n",
    "print(len(nums) - count)  # This will give the number of elements minus the removed ones\n"
   ]
  },
  {
   "cell_type": "code",
   "execution_count": 8,
   "metadata": {},
   "outputs": [
    {
     "name": "stdout",
     "output_type": "stream",
     "text": [
      "1\n",
      "2\n",
      "5\n",
      "9\n",
      "9\n",
      "5\n"
     ]
    },
    {
     "ename": "",
     "evalue": "",
     "output_type": "error",
     "traceback": [
      "\u001b[1;31mThe Kernel crashed while executing code in the current cell or a previous cell. \n",
      "\u001b[1;31mPlease review the code in the cell(s) to identify a possible cause of the failure. \n",
      "\u001b[1;31mClick <a href='https://aka.ms/vscodeJupyterKernelCrash'>here</a> for more info. \n",
      "\u001b[1;31mView Jupyter <a href='command:jupyter.viewOutput'>log</a> for further details."
     ]
    }
   ],
   "source": [
    "x = [1,2,5,4,9,6]\n",
    "\n",
    "m = float('-inf')\n",
    "new_max = 0\n",
    "\n",
    "for i in range(len(x)):\n",
    "\n",
    "    if x[i]>m:\n",
    "        second_max = m\n",
    "\n",
    "        m = x[i]\n",
    "        print(m)\n",
    "print(m)\n",
    "print(second_max)"
   ]
  }
 ],
 "metadata": {
  "kernelspec": {
   "display_name": "Python 3",
   "language": "python",
   "name": "python3"
  },
  "language_info": {
   "codemirror_mode": {
    "name": "ipython",
    "version": 3
   },
   "file_extension": ".py",
   "mimetype": "text/x-python",
   "name": "python",
   "nbconvert_exporter": "python",
   "pygments_lexer": "ipython3",
   "version": "3.12.0"
  }
 },
 "nbformat": 4,
 "nbformat_minor": 2
}
