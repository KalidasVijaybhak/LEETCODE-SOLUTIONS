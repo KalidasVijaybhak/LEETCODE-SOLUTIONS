{
 "cells": [
  {
   "cell_type": "markdown",
   "metadata": {},
   "source": [
    "118. Pascal's Triangle\n",
    "\n",
    "Given an integer numRows, return the first numRows of Pascal's triangle.\n",
    "\n",
    "In Pascal's triangle, each number is the sum of the two numbers directly above it as shown:\n",
    "\n",
    "\n",
    " \n",
    "\n",
    "Example 1:\n",
    "\n",
    "Input: numRows = 5\n",
    "Output: [[1],[1,1],[1,2,1],[1,3,3,1],[1,4,6,4,1]]\n",
    "Example 2:\n",
    "\n",
    "Input: numRows = 1\n",
    "Output: [[1]]"
   ]
  },
  {
   "cell_type": "code",
   "execution_count": null,
   "metadata": {},
   "outputs": [],
   "source": [
    "class Solution:\n",
    "    def generate(self, numRows: int) -> List[List[int]]:\n",
    "        x = [1,1]\n",
    "        left  = 0\n",
    "        right = 1\n",
    "        k = []\n",
    "        j = [[1],[1,1]]\n",
    "        if numRows == 1:\n",
    "            return [[1]]\n",
    "        if numRows == 2:\n",
    "            return j\n",
    "        for i in range(numRows-2):\n",
    "            while right < len(x):\n",
    "                m = x[left]+x[right]\n",
    "                left+=1\n",
    "                right+=1\n",
    "                k.append(m)\n",
    "            k.insert(0,1)\n",
    "            k.append(1)\n",
    "            j.extend([k])\n",
    "            x = k\n",
    "            k = []\n",
    "            left= 0\n",
    "            right = 1\n",
    "            \n",
    "        return j"
   ]
  }
 ],
 "metadata": {
  "language_info": {
   "name": "python"
  }
 },
 "nbformat": 4,
 "nbformat_minor": 2
}
